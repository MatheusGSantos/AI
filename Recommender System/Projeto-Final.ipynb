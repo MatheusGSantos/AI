{
 "cells": [
  {
   "cell_type": "markdown",
   "metadata": {},
   "source": [
    "# Model based collaborative system"
   ]
  },
  {
   "cell_type": "code",
   "execution_count": 19,
   "metadata": {},
   "outputs": [],
   "source": [
    "# import core modules\n",
    "import pandas as pd \n",
    "import numpy as np\n",
    "from surprise import Reader, Dataset\n",
    "from surprise import SVD\n",
    "from surprise.accuracy import rmse, mae\n",
    "from collections import defaultdict\n",
    "import matplotlib.pyplot as plt\n",
    "\n",
    "import matplotlib.image as mpimg\n",
    "from IPython.display import display, Image\n",
    "\n",
    "# import warnings\n",
    "# warnings.filterwarnings('ignore')"
   ]
  },
  {
   "cell_type": "code",
   "execution_count": 20,
   "metadata": {},
   "outputs": [],
   "source": [
    "# rating dataset\n",
    "ratings = pd.read_csv ('data_movie/ratings.csv')\n",
    "\n",
    "# movies dataset\n",
    "movies = pd.read_csv('data_movie/movies.csv')"
   ]
  },
  {
   "cell_type": "markdown",
   "metadata": {},
   "source": [
    "## Pre-processamento"
   ]
  },
  {
   "cell_type": "code",
   "execution_count": 21,
   "metadata": {},
   "outputs": [],
   "source": [
    "dict_movies = {}\n",
    "for index, row in movies.iterrows():\n",
    "    dict_movies[row['movieId']] = (row['title'], row['genres'])"
   ]
  },
  {
   "cell_type": "code",
   "execution_count": 22,
   "metadata": {},
   "outputs": [],
   "source": [
    "# adding corresponded data columns\n",
    "new_cols = np.zeros((ratings.shape[0] , 2)).astype('object')\n",
    "\n",
    "for index, row in ratings.iterrows():\n",
    "    new_cols[index][0] = dict_movies[int(row['movieId'])][0]\n",
    "    new_cols[index][1] = dict_movies[int(row['movieId'])][1]"
   ]
  },
  {
   "cell_type": "code",
   "execution_count": 23,
   "metadata": {},
   "outputs": [],
   "source": [
    "# final dataframe\n",
    "aux = np.append(ratings.to_numpy(),new_cols, axis=1)\n",
    "movielens_dataframe = pd.DataFrame(aux, columns = ['userId', 'movieId', 'rating', 'timestamp','title', 'genres'])\n",
    "movielens_dataframe.drop(['timestamp'], axis=1, inplace=True)"
   ]
  },
  {
   "cell_type": "code",
   "execution_count": 24,
   "metadata": {
    "scrolled": true
   },
   "outputs": [],
   "source": [
    "movielens_dataframe['userId'] = movielens_dataframe['userId'].astype('int32')\n",
    "movielens_dataframe['movieId'] = movielens_dataframe['movieId'].astype('int64')\n",
    "movielens_dataframe['rating'] = movielens_dataframe['rating'].astype('float32')"
   ]
  },
  {
   "cell_type": "code",
   "execution_count": null,
   "metadata": {},
   "outputs": [],
   "source": [
    "movielens_dataframe.head(15)"
   ]
  },
  {
   "cell_type": "code",
   "execution_count": null,
   "metadata": {},
   "outputs": [],
   "source": [
    "# matriz de ratings-users\n",
    "movie_matrix = movielens_dataframe.pivot_table(index='userId', columns='title', values='rating')\n",
    "movie_matrix.sample(20)"
   ]
  },
  {
   "cell_type": "markdown",
   "metadata": {},
   "source": [
    "### Distribuição dos Dados"
   ]
  },
  {
   "cell_type": "code",
   "execution_count": null,
   "metadata": {},
   "outputs": [],
   "source": [
    "# number of ratings per user\n",
    "counts = movielens_dataframe['userId'].value_counts()\n",
    "counts_median = counts.median()\n",
    "counts.sample(20)"
   ]
  },
  {
   "cell_type": "code",
   "execution_count": 44,
   "metadata": {},
   "outputs": [
    {
     "name": "stdout",
     "output_type": "stream",
     "text": [
      "Mediana: 70.5\n"
     ]
    }
   ],
   "source": [
    "print(\"Mediana: \"+ str(counts_median))"
   ]
  },
  {
   "cell_type": "code",
   "execution_count": null,
   "metadata": {},
   "outputs": [],
   "source": []
  },
  {
   "cell_type": "markdown",
   "metadata": {},
   "source": [
    "## Treinamento e Teste"
   ]
  },
  {
   "cell_type": "code",
   "execution_count": 71,
   "metadata": {},
   "outputs": [],
   "source": [
    "# surprise dataset\n",
    "reader = Reader()\n",
    "dataset = Dataset.load_from_df(movielens_dataframe[['userId', 'movieId', 'rating']], reader)"
   ]
  },
  {
   "cell_type": "code",
   "execution_count": 72,
   "metadata": {},
   "outputs": [],
   "source": [
    "# train set\n",
    "train_set = dataset.build_full_trainset()"
   ]
  },
  {
   "cell_type": "code",
   "execution_count": 73,
   "metadata": {},
   "outputs": [],
   "source": [
    "# test set\n",
    "test_set = train_set.build_anti_testset()"
   ]
  },
  {
   "cell_type": "code",
   "execution_count": 68,
   "metadata": {
    "scrolled": true
   },
   "outputs": [
    {
     "name": "stdout",
     "output_type": "stream",
     "text": [
      "RMSE: 0.3270\n",
      "MAE:  0.2524\n",
      "RMSE: 0.2928\n",
      "MAE:  0.2279\n",
      "RMSE: 0.3287\n",
      "MAE:  0.2539\n",
      "RMSE: 0.2940\n",
      "MAE:  0.2288\n",
      "RMSE: 0.3308\n",
      "MAE:  0.2559\n",
      "RMSE: 0.2954\n",
      "MAE:  0.2302\n",
      "RMSE: 0.3784\n",
      "MAE:  0.2947\n",
      "RMSE: 0.3364\n",
      "MAE:  0.2630\n",
      "RMSE: 0.3783\n",
      "MAE:  0.2946\n",
      "RMSE: 0.3362\n",
      "MAE:  0.2629\n",
      "RMSE: 0.3784\n",
      "MAE:  0.2949\n",
      "RMSE: 0.3362\n",
      "MAE:  0.2630\n",
      "RMSE: 0.4264\n",
      "MAE:  0.3313\n",
      "RMSE: 0.3765\n",
      "MAE:  0.2938\n",
      "RMSE: 0.4252\n",
      "MAE:  0.3304\n",
      "RMSE: 0.3760\n",
      "MAE:  0.2934\n",
      "RMSE: 0.4241\n",
      "MAE:  0.3297\n",
      "RMSE: 0.3755\n",
      "MAE:  0.2931\n"
     ]
    }
   ],
   "source": [
    "results_dict = {}\n",
    "epochs = [5,10,20]\n",
    "factors = [10,50,100]\n",
    "reg = [0.2,0.4]\n",
    "\n",
    "for ep in epochs:\n",
    "    for fac in factors:\n",
    "        for r in reg:\n",
    "            svd = SVD(n_epochs=ep,reg_all=r,n_factors=fac, random_state=0).fit(train_set)\n",
    "            pred = svd.test(test_set)\n",
    "            results = (rmse(pred),mae(pred))\n",
    "            results_dict[f'{ep}, {fac}, {r}'] = results\n",
    "            \n",
    "                "
   ]
  },
  {
   "cell_type": "code",
   "execution_count": 69,
   "metadata": {},
   "outputs": [
    {
     "data": {
      "text/plain": [
       "{'5, 10, 0.2': (0.3269578190331457, 0.25241615261094297),\n",
       " '5, 10, 0.4': (0.2928430029616927, 0.22786435957133147),\n",
       " '5, 50, 0.2': (0.3286726205563529, 0.2538675540411563),\n",
       " '5, 50, 0.4': (0.29395538565663326, 0.22878829147545565),\n",
       " '5, 100, 0.2': (0.3307846381929948, 0.255931454529045),\n",
       " '5, 100, 0.4': (0.29535708306023684, 0.2301632858806637),\n",
       " '10, 10, 0.2': (0.378381735886297, 0.2947035711746248),\n",
       " '10, 10, 0.4': (0.33635323524183813, 0.2630333575756857),\n",
       " '10, 50, 0.2': (0.37834115451091915, 0.294623275173001),\n",
       " '10, 50, 0.4': (0.3362270474109714, 0.26291478907199156),\n",
       " '10, 100, 0.2': (0.378389481867313, 0.29485182700236395),\n",
       " '10, 100, 0.4': (0.33622484600763614, 0.2630178779833007),\n",
       " '20, 10, 0.2': (0.4263643701061662, 0.3312594925439114),\n",
       " '20, 10, 0.4': (0.3765214636767856, 0.2937587898857526),\n",
       " '20, 50, 0.2': (0.42522469243267247, 0.3304230574783003),\n",
       " '20, 50, 0.4': (0.3759873267808544, 0.2933753165251539),\n",
       " '20, 100, 0.2': (0.4240777477426761, 0.32972643203871005),\n",
       " '20, 100, 0.4': (0.37552529092335096, 0.2930845033634926)}"
      ]
     },
     "execution_count": 69,
     "metadata": {},
     "output_type": "execute_result"
    }
   ],
   "source": [
    "results_dict"
   ]
  },
  {
   "cell_type": "code",
   "execution_count": 76,
   "metadata": {},
   "outputs": [
    {
     "data": {
      "text/plain": [
       "<surprise.prediction_algorithms.matrix_factorization.SVD at 0x7f9b8f2af2b0>"
      ]
     },
     "execution_count": 76,
     "metadata": {},
     "output_type": "execute_result"
    }
   ],
   "source": [
    "# svd model\n",
    "svd = SVD(n_epochs=5,reg_all=0.4,n_factors=10, random_state=0)\n",
    "svd.fit(train_set)"
   ]
  },
  {
   "cell_type": "code",
   "execution_count": 79,
   "metadata": {},
   "outputs": [],
   "source": [
    "def get_top_n(pred, n=10):\n",
    "    #Return the top-N recommendation for each user from a set of predictions.\n",
    "    \n",
    "    # First map the predictions to each user.\n",
    "    top_n = defaultdict(list)\n",
    "    for uid, iid, true_r, est, _ in pred:\n",
    "        top_n[uid].append((iid, est))\n",
    "\n",
    "    # Then sort the predictions for each user and retrieve the k highest ones.\n",
    "    for uid, user_ratings in top_n.items():\n",
    "        user_ratings.sort(key=lambda x: x[1], reverse=True)\n",
    "        top_n[uid] = user_ratings[:n]\n",
    "\n",
    "    return top_n"
   ]
  },
  {
   "cell_type": "code",
   "execution_count": 80,
   "metadata": {},
   "outputs": [],
   "source": [
    "# predictions\n",
    "pred = svd.test(test_set)"
   ]
  },
  {
   "cell_type": "code",
   "execution_count": 81,
   "metadata": {},
   "outputs": [],
   "source": [
    "top_n = get_top_n(pred, n=5)"
   ]
  },
  {
   "cell_type": "code",
   "execution_count": 82,
   "metadata": {},
   "outputs": [
    {
     "name": "stdout",
     "output_type": "stream",
     "text": [
      "RMSE: 0.2928\n",
      "MAE:  0.2279\n"
     ]
    }
   ],
   "source": [
    "# metrics\n",
    "results = (rmse(pred),mae(pred))"
   ]
  },
  {
   "cell_type": "code",
   "execution_count": null,
   "metadata": {},
   "outputs": [],
   "source": [
    "image=[0,0,0,0,0]\n",
    "img_source=[0,0,0,0,0]\n",
    "#make new figure with 2 subfigures\n",
    "#each subfigure can have an image in it\n",
    "fig = plt.figure(figsize=(30,65))\n",
    "\n",
    "user = 5;\n",
    "\n",
    "for i in range(5):\n",
    "    \n",
    "    k = movies[movies['movieId']==top_n[user][i][0]].index\n",
    "    image[i] = plt.subplot(1,5,i+1, title = movies['title'][k].tolist()[0])\n",
    "    img_source[i] = mpimg.imread('image/' + str(top_n[user][i][0])+'.jpg')\n",
    "    _ = image[i].imshow(img_source[i])\n",
    "    \n",
    "    image[i].axis(\"off\")\n",
    "\n",
    "plt.show()"
   ]
  },
  {
   "cell_type": "code",
   "execution_count": 100,
   "metadata": {},
   "outputs": [
    {
     "name": "stdout",
     "output_type": "stream",
     "text": [
      "Drama|Western\n",
      "Crime|Drama\n",
      "Action|Adventure|Drama|War\n",
      "Crime|Horror|Thriller\n",
      "Drama\n"
     ]
    }
   ],
   "source": [
    "for i in range(5):\n",
    "    \n",
    "    k = movies[movies['movieId']==top_n[user][i][0]].index\n",
    "    print(movies['genres'][k].tolist()[0])\n",
    "    "
   ]
  },
  {
   "cell_type": "code",
   "execution_count": 53,
   "metadata": {},
   "outputs": [
    {
     "data": {
      "text/html": [
       "<div>\n",
       "<style scoped>\n",
       "    .dataframe tbody tr th:only-of-type {\n",
       "        vertical-align: middle;\n",
       "    }\n",
       "\n",
       "    .dataframe tbody tr th {\n",
       "        vertical-align: top;\n",
       "    }\n",
       "\n",
       "    .dataframe thead th {\n",
       "        text-align: right;\n",
       "    }\n",
       "</style>\n",
       "<table border=\"1\" class=\"dataframe\">\n",
       "  <thead>\n",
       "    <tr style=\"text-align: right;\">\n",
       "      <th></th>\n",
       "      <th>rating</th>\n",
       "    </tr>\n",
       "    <tr>\n",
       "      <th>movieId</th>\n",
       "      <th></th>\n",
       "    </tr>\n",
       "  </thead>\n",
       "  <tbody>\n",
       "    <tr>\n",
       "      <th>193581</th>\n",
       "      <td>1</td>\n",
       "    </tr>\n",
       "    <tr>\n",
       "      <th>193583</th>\n",
       "      <td>1</td>\n",
       "    </tr>\n",
       "    <tr>\n",
       "      <th>193585</th>\n",
       "      <td>1</td>\n",
       "    </tr>\n",
       "    <tr>\n",
       "      <th>193587</th>\n",
       "      <td>1</td>\n",
       "    </tr>\n",
       "    <tr>\n",
       "      <th>193609</th>\n",
       "      <td>1</td>\n",
       "    </tr>\n",
       "  </tbody>\n",
       "</table>\n",
       "</div>"
      ],
      "text/plain": [
       "         rating\n",
       "movieId        \n",
       "193581        1\n",
       "193583        1\n",
       "193585        1\n",
       "193587        1\n",
       "193609        1"
      ]
     },
     "execution_count": 53,
     "metadata": {},
     "output_type": "execute_result"
    }
   ],
   "source": [
    "# mostrar que a base está balanceada\n",
    "\n",
    "# em relação ao número de avaliações por filme\n",
    "mv = movielens_dataframe.drop(['title','genres','userId'], axis=1)\n",
    "# \"id do filme\" vs número de avaliações\n",
    "mv = mv.groupby(['movieId']).count()\n",
    "mv.tail()"
   ]
  },
  {
   "cell_type": "code",
   "execution_count": 59,
   "metadata": {},
   "outputs": [
    {
     "name": "stdout",
     "output_type": "stream",
     "text": [
      "Mediana: 3.0\n"
     ]
    }
   ],
   "source": [
    "mv_median = mv.median().tolist()[0]\n",
    "print(f\"Mediana: {mv_median}\")"
   ]
  },
  {
   "cell_type": "code",
   "execution_count": 61,
   "metadata": {},
   "outputs": [
    {
     "data": {
      "text/html": [
       "<div>\n",
       "<style scoped>\n",
       "    .dataframe tbody tr th:only-of-type {\n",
       "        vertical-align: middle;\n",
       "    }\n",
       "\n",
       "    .dataframe tbody tr th {\n",
       "        vertical-align: top;\n",
       "    }\n",
       "\n",
       "    .dataframe thead th {\n",
       "        text-align: right;\n",
       "    }\n",
       "</style>\n",
       "<table border=\"1\" class=\"dataframe\">\n",
       "  <thead>\n",
       "    <tr style=\"text-align: right;\">\n",
       "      <th></th>\n",
       "      <th>movieId</th>\n",
       "    </tr>\n",
       "    <tr>\n",
       "      <th>rating</th>\n",
       "      <th></th>\n",
       "    </tr>\n",
       "  </thead>\n",
       "  <tbody>\n",
       "    <tr>\n",
       "      <th>0.5</th>\n",
       "      <td>1370</td>\n",
       "    </tr>\n",
       "    <tr>\n",
       "      <th>1.0</th>\n",
       "      <td>2811</td>\n",
       "    </tr>\n",
       "    <tr>\n",
       "      <th>1.5</th>\n",
       "      <td>1791</td>\n",
       "    </tr>\n",
       "    <tr>\n",
       "      <th>2.0</th>\n",
       "      <td>7551</td>\n",
       "    </tr>\n",
       "    <tr>\n",
       "      <th>2.5</th>\n",
       "      <td>5550</td>\n",
       "    </tr>\n",
       "    <tr>\n",
       "      <th>3.0</th>\n",
       "      <td>20047</td>\n",
       "    </tr>\n",
       "    <tr>\n",
       "      <th>3.5</th>\n",
       "      <td>13136</td>\n",
       "    </tr>\n",
       "    <tr>\n",
       "      <th>4.0</th>\n",
       "      <td>26818</td>\n",
       "    </tr>\n",
       "    <tr>\n",
       "      <th>4.5</th>\n",
       "      <td>8551</td>\n",
       "    </tr>\n",
       "    <tr>\n",
       "      <th>5.0</th>\n",
       "      <td>13211</td>\n",
       "    </tr>\n",
       "  </tbody>\n",
       "</table>\n",
       "</div>"
      ],
      "text/plain": [
       "        movieId\n",
       "rating         \n",
       "0.5        1370\n",
       "1.0        2811\n",
       "1.5        1791\n",
       "2.0        7551\n",
       "2.5        5550\n",
       "3.0       20047\n",
       "3.5       13136\n",
       "4.0       26818\n",
       "4.5        8551\n",
       "5.0       13211"
      ]
     },
     "execution_count": 61,
     "metadata": {},
     "output_type": "execute_result"
    }
   ],
   "source": [
    "# em relação ao número de filmes avaliados para cada nota \n",
    "rt = movielens_dataframe.drop(['title','genres','userId'], axis=1)\n",
    "# notas vs número de vezes que aparece\n",
    "rt = rt.groupby(['rating']).count()\n",
    "rt"
   ]
  },
  {
   "cell_type": "code",
   "execution_count": 99,
   "metadata": {},
   "outputs": [
    {
     "data": {
      "text/html": [
       "<div>\n",
       "<style scoped>\n",
       "    .dataframe tbody tr th:only-of-type {\n",
       "        vertical-align: middle;\n",
       "    }\n",
       "\n",
       "    .dataframe tbody tr th {\n",
       "        vertical-align: top;\n",
       "    }\n",
       "\n",
       "    .dataframe thead th {\n",
       "        text-align: right;\n",
       "    }\n",
       "</style>\n",
       "<table border=\"1\" class=\"dataframe\">\n",
       "  <thead>\n",
       "    <tr style=\"text-align: right;\">\n",
       "      <th></th>\n",
       "      <th>userId</th>\n",
       "      <th>movieId</th>\n",
       "      <th>rating</th>\n",
       "      <th>title</th>\n",
       "      <th>genres</th>\n",
       "    </tr>\n",
       "  </thead>\n",
       "  <tbody>\n",
       "    <tr>\n",
       "      <th>516</th>\n",
       "      <td>5</td>\n",
       "      <td>1</td>\n",
       "      <td>4.0</td>\n",
       "      <td>Toy Story (1995)</td>\n",
       "      <td>Adventure|Animation|Children|Comedy|Fantasy</td>\n",
       "    </tr>\n",
       "    <tr>\n",
       "      <th>517</th>\n",
       "      <td>5</td>\n",
       "      <td>21</td>\n",
       "      <td>4.0</td>\n",
       "      <td>Get Shorty (1995)</td>\n",
       "      <td>Comedy|Crime|Thriller</td>\n",
       "    </tr>\n",
       "    <tr>\n",
       "      <th>518</th>\n",
       "      <td>5</td>\n",
       "      <td>34</td>\n",
       "      <td>4.0</td>\n",
       "      <td>Babe (1995)</td>\n",
       "      <td>Children|Drama</td>\n",
       "    </tr>\n",
       "    <tr>\n",
       "      <th>519</th>\n",
       "      <td>5</td>\n",
       "      <td>36</td>\n",
       "      <td>4.0</td>\n",
       "      <td>Dead Man Walking (1995)</td>\n",
       "      <td>Crime|Drama</td>\n",
       "    </tr>\n",
       "    <tr>\n",
       "      <th>521</th>\n",
       "      <td>5</td>\n",
       "      <td>50</td>\n",
       "      <td>4.0</td>\n",
       "      <td>Usual Suspects, The (1995)</td>\n",
       "      <td>Crime|Mystery|Thriller</td>\n",
       "    </tr>\n",
       "    <tr>\n",
       "      <th>522</th>\n",
       "      <td>5</td>\n",
       "      <td>58</td>\n",
       "      <td>5.0</td>\n",
       "      <td>Postman, The (Postino, Il) (1994)</td>\n",
       "      <td>Comedy|Drama|Romance</td>\n",
       "    </tr>\n",
       "    <tr>\n",
       "      <th>523</th>\n",
       "      <td>5</td>\n",
       "      <td>110</td>\n",
       "      <td>4.0</td>\n",
       "      <td>Braveheart (1995)</td>\n",
       "      <td>Action|Drama|War</td>\n",
       "    </tr>\n",
       "    <tr>\n",
       "      <th>526</th>\n",
       "      <td>5</td>\n",
       "      <td>232</td>\n",
       "      <td>4.0</td>\n",
       "      <td>Eat Drink Man Woman (Yin shi nan nu) (1994)</td>\n",
       "      <td>Comedy|Drama|Romance</td>\n",
       "    </tr>\n",
       "    <tr>\n",
       "      <th>527</th>\n",
       "      <td>5</td>\n",
       "      <td>247</td>\n",
       "      <td>5.0</td>\n",
       "      <td>Heavenly Creatures (1994)</td>\n",
       "      <td>Crime|Drama</td>\n",
       "    </tr>\n",
       "    <tr>\n",
       "      <th>529</th>\n",
       "      <td>5</td>\n",
       "      <td>261</td>\n",
       "      <td>4.0</td>\n",
       "      <td>Little Women (1994)</td>\n",
       "      <td>Drama</td>\n",
       "    </tr>\n",
       "    <tr>\n",
       "      <th>532</th>\n",
       "      <td>5</td>\n",
       "      <td>290</td>\n",
       "      <td>5.0</td>\n",
       "      <td>Once Were Warriors (1994)</td>\n",
       "      <td>Crime|Drama</td>\n",
       "    </tr>\n",
       "    <tr>\n",
       "      <th>533</th>\n",
       "      <td>5</td>\n",
       "      <td>296</td>\n",
       "      <td>5.0</td>\n",
       "      <td>Pulp Fiction (1994)</td>\n",
       "      <td>Comedy|Crime|Drama|Thriller</td>\n",
       "    </tr>\n",
       "    <tr>\n",
       "      <th>541</th>\n",
       "      <td>5</td>\n",
       "      <td>367</td>\n",
       "      <td>4.0</td>\n",
       "      <td>Mask, The (1994)</td>\n",
       "      <td>Action|Comedy|Crime|Fantasy</td>\n",
       "    </tr>\n",
       "    <tr>\n",
       "      <th>544</th>\n",
       "      <td>5</td>\n",
       "      <td>457</td>\n",
       "      <td>4.0</td>\n",
       "      <td>Fugitive, The (1993)</td>\n",
       "      <td>Thriller</td>\n",
       "    </tr>\n",
       "    <tr>\n",
       "      <th>545</th>\n",
       "      <td>5</td>\n",
       "      <td>474</td>\n",
       "      <td>4.0</td>\n",
       "      <td>In the Line of Fire (1993)</td>\n",
       "      <td>Action|Thriller</td>\n",
       "    </tr>\n",
       "    <tr>\n",
       "      <th>546</th>\n",
       "      <td>5</td>\n",
       "      <td>475</td>\n",
       "      <td>5.0</td>\n",
       "      <td>In the Name of the Father (1993)</td>\n",
       "      <td>Drama</td>\n",
       "    </tr>\n",
       "    <tr>\n",
       "      <th>548</th>\n",
       "      <td>5</td>\n",
       "      <td>527</td>\n",
       "      <td>5.0</td>\n",
       "      <td>Schindler's List (1993)</td>\n",
       "      <td>Drama|War</td>\n",
       "    </tr>\n",
       "    <tr>\n",
       "      <th>549</th>\n",
       "      <td>5</td>\n",
       "      <td>531</td>\n",
       "      <td>4.0</td>\n",
       "      <td>Secret Garden, The (1993)</td>\n",
       "      <td>Children|Drama</td>\n",
       "    </tr>\n",
       "    <tr>\n",
       "      <th>551</th>\n",
       "      <td>5</td>\n",
       "      <td>588</td>\n",
       "      <td>4.0</td>\n",
       "      <td>Aladdin (1992)</td>\n",
       "      <td>Adventure|Animation|Children|Comedy|Musical</td>\n",
       "    </tr>\n",
       "    <tr>\n",
       "      <th>553</th>\n",
       "      <td>5</td>\n",
       "      <td>590</td>\n",
       "      <td>5.0</td>\n",
       "      <td>Dances with Wolves (1990)</td>\n",
       "      <td>Adventure|Drama|Western</td>\n",
       "    </tr>\n",
       "    <tr>\n",
       "      <th>555</th>\n",
       "      <td>5</td>\n",
       "      <td>594</td>\n",
       "      <td>5.0</td>\n",
       "      <td>Snow White and the Seven Dwarfs (1937)</td>\n",
       "      <td>Animation|Children|Drama|Fantasy|Musical</td>\n",
       "    </tr>\n",
       "    <tr>\n",
       "      <th>556</th>\n",
       "      <td>5</td>\n",
       "      <td>595</td>\n",
       "      <td>5.0</td>\n",
       "      <td>Beauty and the Beast (1991)</td>\n",
       "      <td>Animation|Children|Fantasy|Musical|Romance|IMAX</td>\n",
       "    </tr>\n",
       "    <tr>\n",
       "      <th>557</th>\n",
       "      <td>5</td>\n",
       "      <td>596</td>\n",
       "      <td>5.0</td>\n",
       "      <td>Pinocchio (1940)</td>\n",
       "      <td>Animation|Children|Fantasy|Musical</td>\n",
       "    </tr>\n",
       "  </tbody>\n",
       "</table>\n",
       "</div>"
      ],
      "text/plain": [
       "     userId  movieId  rating                                        title  \\\n",
       "516       5        1     4.0                             Toy Story (1995)   \n",
       "517       5       21     4.0                            Get Shorty (1995)   \n",
       "518       5       34     4.0                                  Babe (1995)   \n",
       "519       5       36     4.0                      Dead Man Walking (1995)   \n",
       "521       5       50     4.0                   Usual Suspects, The (1995)   \n",
       "522       5       58     5.0            Postman, The (Postino, Il) (1994)   \n",
       "523       5      110     4.0                            Braveheart (1995)   \n",
       "526       5      232     4.0  Eat Drink Man Woman (Yin shi nan nu) (1994)   \n",
       "527       5      247     5.0                    Heavenly Creatures (1994)   \n",
       "529       5      261     4.0                          Little Women (1994)   \n",
       "532       5      290     5.0                    Once Were Warriors (1994)   \n",
       "533       5      296     5.0                          Pulp Fiction (1994)   \n",
       "541       5      367     4.0                             Mask, The (1994)   \n",
       "544       5      457     4.0                         Fugitive, The (1993)   \n",
       "545       5      474     4.0                   In the Line of Fire (1993)   \n",
       "546       5      475     5.0             In the Name of the Father (1993)   \n",
       "548       5      527     5.0                      Schindler's List (1993)   \n",
       "549       5      531     4.0                    Secret Garden, The (1993)   \n",
       "551       5      588     4.0                               Aladdin (1992)   \n",
       "553       5      590     5.0                    Dances with Wolves (1990)   \n",
       "555       5      594     5.0       Snow White and the Seven Dwarfs (1937)   \n",
       "556       5      595     5.0                  Beauty and the Beast (1991)   \n",
       "557       5      596     5.0                             Pinocchio (1940)   \n",
       "\n",
       "                                              genres  \n",
       "516      Adventure|Animation|Children|Comedy|Fantasy  \n",
       "517                            Comedy|Crime|Thriller  \n",
       "518                                   Children|Drama  \n",
       "519                                      Crime|Drama  \n",
       "521                           Crime|Mystery|Thriller  \n",
       "522                             Comedy|Drama|Romance  \n",
       "523                                 Action|Drama|War  \n",
       "526                             Comedy|Drama|Romance  \n",
       "527                                      Crime|Drama  \n",
       "529                                            Drama  \n",
       "532                                      Crime|Drama  \n",
       "533                      Comedy|Crime|Drama|Thriller  \n",
       "541                      Action|Comedy|Crime|Fantasy  \n",
       "544                                         Thriller  \n",
       "545                                  Action|Thriller  \n",
       "546                                            Drama  \n",
       "548                                        Drama|War  \n",
       "549                                   Children|Drama  \n",
       "551      Adventure|Animation|Children|Comedy|Musical  \n",
       "553                          Adventure|Drama|Western  \n",
       "555         Animation|Children|Drama|Fantasy|Musical  \n",
       "556  Animation|Children|Fantasy|Musical|Romance|IMAX  \n",
       "557               Animation|Children|Fantasy|Musical  "
      ]
     },
     "execution_count": 99,
     "metadata": {},
     "output_type": "execute_result"
    }
   ],
   "source": [
    "movielens_dataframe[(movielens_dataframe['userId']==5) & (movielens_dataframe['rating']>3.5)]"
   ]
  },
  {
   "cell_type": "markdown",
   "metadata": {},
   "source": [
    "Usuario 5:\n",
    "\n",
    "generos dos filmes recomendados:\n",
    "\n",
    "Drama|Western\n",
    "Crime|Drama\n",
    "Action|Adventure|Drama|War\n",
    "Crime|Horror|Thriller\n",
    "Drama\n",
    "\n",
    "\n",
    "filmes com notas >= 4:\n",
    "\n",
    "14/20 filmes de drama\n",
    "7/20 Crime\n",
    "5/20 thriller\n",
    "3/20 crime/thriller"
   ]
  },
  {
   "cell_type": "code",
   "execution_count": null,
   "metadata": {},
   "outputs": [],
   "source": []
  },
  {
   "cell_type": "code",
   "execution_count": null,
   "metadata": {},
   "outputs": [],
   "source": []
  }
 ],
 "metadata": {
  "kernelspec": {
   "display_name": "Python 3",
   "language": "python",
   "name": "python3"
  },
  "language_info": {
   "codemirror_mode": {
    "name": "ipython",
    "version": 3
   },
   "file_extension": ".py",
   "mimetype": "text/x-python",
   "name": "python",
   "nbconvert_exporter": "python",
   "pygments_lexer": "ipython3",
   "version": "3.7.3"
  }
 },
 "nbformat": 4,
 "nbformat_minor": 4
}
