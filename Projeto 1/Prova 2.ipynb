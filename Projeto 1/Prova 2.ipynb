{
 "cells": [
  {
   "cell_type": "markdown",
   "metadata": {},
   "source": [
    "# Implementação de Métodos de Machine Learning\n",
    "**Aluno:** Matheus Gama dos Santos - 20180163117<br>\n",
    "**Curso:** Ciência da Computação - UFPB<br>\n",
    "**Profª:** Thais Gaudencio do Rego<br><br>\n",
    "Este projeto consiste na implementação de métodos de Machine Learning para analisar as bases de dados listadas abaixo:\n",
    "- [Titanic: Machine Learning from Disaster](https://www.kaggle.com/c/titanic/data)\n",
    "- [\n",
    "House Prices: Advanced Regression Techniques](https://www.kaggle.com/c/house-prices-advanced-regression-techniques/data)\n",
    "- [2018-2019 Premier League Data\n",
    "](https://www.kaggle.com/thesiff/premierleague1819)"
   ]
  },
  {
   "cell_type": "markdown",
   "metadata": {},
   "source": [
    "Cada base de dados será tratada em uma das 3 seções: **Classificação**, **Regressão** e **Clusterização** (nessa ordem).<br>\n",
    "\n",
    "## Classificação"
   ]
  },
  {
   "cell_type": "code",
   "execution_count": 5,
   "metadata": {},
   "outputs": [
    {
     "name": "stdout",
     "output_type": "stream",
     "text": [
      "finished\n"
     ]
    }
   ],
   "source": [
    "#import core modules\n",
    "import pandas as pd\n",
    "import numpy as np\n",
    "from sklearn import *\n",
    "print('finished')"
   ]
  },
  {
   "cell_type": "code",
   "execution_count": null,
   "metadata": {},
   "outputs": [],
   "source": []
  }
 ],
 "metadata": {
  "kernelspec": {
   "display_name": "Python 3",
   "language": "python",
   "name": "python3"
  },
  "language_info": {
   "codemirror_mode": {
    "name": "ipython",
    "version": 3
   },
   "file_extension": ".py",
   "mimetype": "text/x-python",
   "name": "python",
   "nbconvert_exporter": "python",
   "pygments_lexer": "ipython3",
   "version": "3.7.3"
  }
 },
 "nbformat": 4,
 "nbformat_minor": 2
}
