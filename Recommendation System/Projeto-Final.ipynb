{
 "cells": [
  {
   "cell_type": "code",
   "execution_count": 33,
   "metadata": {},
   "outputs": [],
   "source": [
    "# import core modules\n",
    "import pandas as pd \n",
    "import numpy as np\n",
    "import warnings\n",
    "warnings.filterwarnings('ignore')"
   ]
  },
  {
   "cell_type": "code",
   "execution_count": 34,
   "metadata": {},
   "outputs": [],
   "source": [
    "# rating dataset\n",
    "ratings = pd.read_csv ('data_movie/ratings.csv')\n",
    "\n",
    "# movies dataset\n",
    "movies = pd.read_csv('data_movie/movies.csv')"
   ]
  },
  {
   "cell_type": "code",
   "execution_count": 35,
   "metadata": {},
   "outputs": [],
   "source": [
    "dict_movies = {}\n",
    "for index, row in movies.iterrows():\n",
    "    dict_movies[row['movieId']] = (row['title'], row['genres'])"
   ]
  },
  {
   "cell_type": "code",
   "execution_count": 36,
   "metadata": {},
   "outputs": [],
   "source": [
    "# adding corresponded data columns\n",
    "new_cols = np.zeros((ratings.shape[0] , 2)).astype('object')\n",
    "\n",
    "for index, row in ratings.iterrows():\n",
    "    new_cols[index][0] = dict_movies[int(row['movieId'])][0]\n",
    "    new_cols[index][1] = dict_movies[int(row['movieId'])][1]"
   ]
  },
  {
   "cell_type": "code",
   "execution_count": 52,
   "metadata": {},
   "outputs": [],
   "source": [
    "# final dataframe\n",
    "aux = np.append(ratings.to_numpy(),new_cols, axis=1)\n",
    "movielens_dataframe = pd.DataFrame(aux, columns = ['userId', 'movieId', 'rating', 'timestamp','title', 'genres'])"
   ]
  },
  {
   "cell_type": "code",
   "execution_count": null,
   "metadata": {},
   "outputs": [],
   "source": []
  },
  {
   "cell_type": "code",
   "execution_count": null,
   "metadata": {},
   "outputs": [],
   "source": []
  }
 ],
 "metadata": {
  "kernelspec": {
   "display_name": "Python 3",
   "language": "python",
   "name": "python3"
  },
  "language_info": {
   "codemirror_mode": {
    "name": "ipython",
    "version": 3
   },
   "file_extension": ".py",
   "mimetype": "text/x-python",
   "name": "python",
   "nbconvert_exporter": "python",
   "pygments_lexer": "ipython3",
   "version": "3.7.3"
  }
 },
 "nbformat": 4,
 "nbformat_minor": 4
}
